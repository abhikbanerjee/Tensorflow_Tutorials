{
 "cells": [
  {
   "cell_type": "markdown",
   "metadata": {},
   "source": [
    "## This is a basic tutorial of Tensorflow functions and is inspired by the Online Video course by Dan available on Safari Videos"
   ]
  },
  {
   "cell_type": "code",
   "execution_count": 6,
   "metadata": {
    "collapsed": false
   },
   "outputs": [
    {
     "name": "stdout",
     "output_type": "stream",
     "text": [
      "8\n"
     ]
    }
   ],
   "source": [
    "import tensorflow as tf\n",
    "\n",
    "# constants can be defined\n",
    "a = tf.constant(3)\n",
    "b = tf.constant(5)\n",
    "\n",
    "c = a + b  # operations can be done on top of constants\n",
    "\n",
    "# interaction session does not need to keep passing the sess.run() commands and uses the\n",
    "# default session , its a good practise to close the session after usage\n",
    "sess = tf.InteractiveSession() \n",
    "print(c.eval())\n",
    "sess.close()"
   ]
  },
  {
   "cell_type": "markdown",
   "metadata": {},
   "source": [
    "### The other way to use session is by using the \"with\" scope "
   ]
  },
  {
   "cell_type": "code",
   "execution_count": 7,
   "metadata": {
    "collapsed": false
   },
   "outputs": [
    {
     "name": "stdout",
     "output_type": "stream",
     "text": [
      "8\n",
      "13\n",
      "[8, 13]\n"
     ]
    }
   ],
   "source": [
    "# the with scope of the session keeps the block localized and sess.run() can \n",
    "# run multiple objects from a graph in the same sess.run() command\n",
    "# where as eval need to be called for each run.\n",
    "# also using with we dont need to close the session explicitly\n",
    "\n",
    "a = tf.constant(3)\n",
    "b = tf.constant(5)\n",
    "c = tf.constant(7)\n",
    "\n",
    "c = a + b  # operations can be done on top of constants\n",
    "\n",
    "d = b + c # operations can be done on top of constants\n",
    "\n",
    "# defining a session using thw with parameter, and returning multiple values\n",
    "# in session.run compared to eval() method\n",
    "\n",
    "with tf.Session() as sess:\n",
    "    print(c.eval())\n",
    "    print(d.eval())\n",
    "    print(sess.run([c,d]))\n",
    "\n"
   ]
  },
  {
   "cell_type": "code",
   "execution_count": null,
   "metadata": {
    "collapsed": true
   },
   "outputs": [],
   "source": []
  }
 ],
 "metadata": {
  "anaconda-cloud": {},
  "kernelspec": {
   "display_name": "Python [Root]",
   "language": "python",
   "name": "Python [Root]"
  },
  "language_info": {
   "codemirror_mode": {
    "name": "ipython",
    "version": 3
   },
   "file_extension": ".py",
   "mimetype": "text/x-python",
   "name": "python",
   "nbconvert_exporter": "python",
   "pygments_lexer": "ipython3",
   "version": "3.5.2"
  }
 },
 "nbformat": 4,
 "nbformat_minor": 0
}
