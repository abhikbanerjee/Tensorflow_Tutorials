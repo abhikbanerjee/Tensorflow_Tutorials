{
 "cells": [
  {
   "cell_type": "markdown",
   "metadata": {},
   "source": [
    "# Tensorflow tutorials - inspired by http://learningtensorflow.com/lesson7/"
   ]
  },
  {
   "cell_type": "markdown",
   "metadata": {},
   "source": [
    "### Working with loops"
   ]
  },
  {
   "cell_type": "code",
   "execution_count": 2,
   "metadata": {
    "collapsed": false
   },
   "outputs": [
    {
     "name": "stdout",
     "output_type": "stream",
     "text": [
      "6.0\n",
      "7.0\n",
      "8.0\n",
      "9.0\n",
      "10.0\n"
     ]
    }
   ],
   "source": [
    "# Create a loop to increment the values\n",
    "import tensorflow as tf\n",
    "import numpy as np\n",
    "\n",
    "x = tf.Variable(5.0, name=\"x\")\n",
    "\n",
    "model = tf.global_variables_initializer()\n",
    "with tf.Session() as sess:\n",
    "    sess.run(model)\n",
    "    for i in range(5):\n",
    "        x += 1.0\n",
    "        print(sess.run(x))"
   ]
  },
  {
   "cell_type": "code",
   "execution_count": 4,
   "metadata": {
    "collapsed": false
   },
   "outputs": [
    {
     "name": "stdout",
     "output_type": "stream",
     "text": [
      "6.0\n",
      "7.0\n",
      "8.0\n",
      "9.0\n",
      "10.0\n",
      "11.0\n"
     ]
    }
   ],
   "source": [
    "# we can use the loop but with a condition in the loop as a breaking point\n",
    "\n",
    "x = tf.Variable(5.0, name=\"x\")\n",
    "threshold = tf.Variable(10.0, name=\"thres\")\n",
    "\n",
    "model = tf.global_variables_initializer()\n",
    "with tf.Session() as sess:\n",
    "    sess.run(model)\n",
    "    while sess.run(tf.less_equal(x, threshold)):\n",
    "        x += 1.0\n",
    "        print(sess.run(x))"
   ]
  },
  {
   "cell_type": "markdown",
   "metadata": {},
   "source": [
    "## Very simple Gradient Descent Optimization on a Linear Regression variable to learn the values"
   ]
  },
  {
   "cell_type": "code",
   "execution_count": 15,
   "metadata": {
    "collapsed": false
   },
   "outputs": [],
   "source": [
    "import tensorflow as tf\n",
    "import numpy as np\n",
    "\n",
    "# define 2 placeholder variables x and y\n",
    "x = tf.placeholder(tf.float32, name=\"x\")\n",
    "y = tf.placeholder(tf.float32, name=\"y\")\n",
    "\n",
    "# this is our weight matrix which will be modified as per miniming our loss\n",
    "w = tf.Variable([1.0, 2.0], name=\"w\")\n",
    "\n",
    "y_ = x*w[0] + w[1]\n",
    "\n",
    "# this is our loss or error function\n",
    "loss_error = (y-y_)**2\n",
    "\n",
    "# this is doing all the magic to call the GradientDescentOptimizer or various other Optimizers\n",
    "# this has a specific learning rate, and minimizes the loss function.\n",
    "train_op = tf.train.GradientDescentOptimizer(0.01).minimize(loss_error)\n"
   ]
  },
  {
   "cell_type": "code",
   "execution_count": 14,
   "metadata": {
    "collapsed": false
   },
   "outputs": [
    {
     "name": "stdout",
     "output_type": "stream",
     "text": [
      "[1.9999995, 2.9999962]\n"
     ]
    }
   ],
   "source": [
    "with tf.Session() as sess:\n",
    "    sess.run(tf.global_variables_initializer())\n",
    "    for i in range(1000):\n",
    "        # Randomly generate the X_sample and the y_sample values and call the train_op value\n",
    "        X_sample = np.random.randn()\n",
    "        Y_sample = 2*X_sample + 3\n",
    "        sess.run(train_op, feed_dict = {x: X_sample, y: Y_sample})\n",
    "    \n",
    "    # After the training is done, or 1000 ietarations are done print values of w , to see how close they are\n",
    "    #print(\"The final value of w is %.3f * x + %.3f  \" % (w[0], w[1]))\n",
    "    print(sess.run([w[0], w[1]]))"
   ]
  },
  {
   "cell_type": "markdown",
   "metadata": {},
   "source": [
    "## Plotting the Error function after calling the train function"
   ]
  },
  {
   "cell_type": "code",
   "execution_count": 18,
   "metadata": {
    "collapsed": false
   },
   "outputs": [
    {
     "name": "stdout",
     "output_type": "stream",
     "text": [
      "[2.0, 2.9999976]\n"
     ]
    },
    {
     "data": {
      "image/png": "[encoded data removed]",
      "text/plain": [
       "<matplotlib.figure.Figure at 0x1110354a8>"
      ]
     },
     "metadata": {},
     "output_type": "display_data"
    }
   ],
   "source": [
    "errors = []\n",
    "\n",
    "with tf.Session() as sess:\n",
    "    sess.run(tf.global_variables_initializer())\n",
    "    for i in range(1000):\n",
    "        # Randomly generate the X_sample and the y_sample values and call the train_op value\n",
    "        X_sample = np.random.randn()\n",
    "        Y_sample = 2*X_sample + 3\n",
    "        _, err = sess.run([train_op,loss_error], feed_dict = {x: X_sample, y: Y_sample})\n",
    "        errors.append(err)\n",
    "    \n",
    "    # After the training is done, or 1000 ietarations are done print values of w , to see how close they are\n",
    "    #print(\"The final value of w is %.3f * x + %.3f  \" % (w[0], w[1]))\n",
    "    print(sess.run([w[0], w[1]]))\n",
    "    \n",
    "    #Plot the errors now without doing any normalizing\n",
    "    import matplotlib.pyplot as plt\n",
    "    %matplotlib inline\n",
    "    plt.plot(errors)\n",
    "    plt.title(\"Error Plot\")\n",
    "    plt.show()"
   ]
  },
  {
   "cell_type": "code",
   "execution_count": 21,
   "metadata": {
    "collapsed": false
   },
   "outputs": [
    {
     "name": "stdout",
     "output_type": "stream",
     "text": [
      "[2.0, 2.9999971]\n"
     ]
    },
    {
     "name": "stderr",
     "output_type": "stream",
     "text": [
      "/Users/tkmacl9/anaconda/lib/python3.5/site-packages/numpy/core/fromnumeric.py:2889: RuntimeWarning: Mean of empty slice.\n",
      "  out=out, **kwargs)\n",
      "/Users/tkmacl9/anaconda/lib/python3.5/site-packages/numpy/core/_methods.py:80: RuntimeWarning: invalid value encountered in double_scalars\n",
      "  ret = ret.dtype.type(ret / rcount)\n"
     ]
    },
    {
     "data": {
      "image/png": "[encoded data removed]",
      "text/plain": [
       "<matplotlib.figure.Figure at 0x114d57940>"
      ]
     },
     "metadata": {},
     "output_type": "display_data"
    }
   ],
   "source": [
    "# repeating the same process with normalized values of errors\n",
    "errors = []\n",
    "\n",
    "with tf.Session() as sess:\n",
    "    sess.run(tf.global_variables_initializer())\n",
    "    for i in range(1000):\n",
    "        # Randomly generate the X_sample and the y_sample values and call the train_op value\n",
    "        X_sample = np.random.randn()\n",
    "        Y_sample = 2*X_sample + 3\n",
    "        _, err = sess.run([train_op,loss_error], feed_dict = {x: X_sample, y: Y_sample})\n",
    "        errors.append(err)\n",
    "    \n",
    "    # After the training is done, or 1000 ietarations are done print values of w , to see how close they are\n",
    "    #print(\"The final value of w is %.3f * x + %.3f  \" % (w[0], w[1]))\n",
    "    print(sess.run([w[0], w[1]]))\n",
    "    \n",
    "    #Plot the errors now without doing any normalizing\n",
    "    import matplotlib.pyplot as plt\n",
    "    %matplotlib inline\n",
    "    plt.plot([np.mean(errors[i-50:i]) for i in range(len(errors))])\n",
    "    plt.title(\"Error Plot\")\n",
    "    plt.show()"
   ]
  },
  {
   "cell_type": "code",
   "execution_count": null,
   "metadata": {
    "collapsed": true
   },
   "outputs": [],
   "source": []
  }
 ],
 "metadata": {
  "anaconda-cloud": {},
  "kernelspec": {
   "display_name": "Python [Root]",
   "language": "python",
   "name": "Python [Root]"
  },
  "language_info": {
   "codemirror_mode": {
    "name": "ipython",
    "version": 3
   },
   "file_extension": ".py",
   "mimetype": "text/x-python",
   "name": "python",
   "nbconvert_exporter": "python",
   "pygments_lexer": "ipython3",
   "version": "3.5.2"
  }
 },
 "nbformat": 4,
 "nbformat_minor": 0
}
