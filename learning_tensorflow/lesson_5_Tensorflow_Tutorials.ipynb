{
 "cells": [
  {
   "cell_type": "markdown",
   "metadata": {},
   "source": [
    "# Tensorflow tutorials - inspired by http://learningtensorflow.com/lesson5/"
   ]
  },
  {
   "cell_type": "markdown",
   "metadata": {
    "collapsed": true
   },
   "source": [
    "### working with Interactive sessions and memory size"
   ]
  },
  {
   "cell_type": "code",
   "execution_count": 1,
   "metadata": {
    "collapsed": false
   },
   "outputs": [
    {
     "name": "stdout",
     "output_type": "stream",
     "text": [
      "[0 1 2 3 4 5 6 7 8 9]\n"
     ]
    }
   ],
   "source": [
    "# interactive session example - uses default session, also do not need to append sess.run() every time\n",
    "\n",
    "import tensorflow as tf\n",
    "session = tf.InteractiveSession()\n",
    "x = tf.constant(list(range(10)))\n",
    "print(x.eval())\n",
    "session.close()"
   ]
  },
  {
   "cell_type": "code",
   "execution_count": 2,
   "metadata": {
    "collapsed": false
   },
   "outputs": [
    {
     "name": "stdout",
     "output_type": "stream",
     "text": [
      "88784896 Kb\n"
     ]
    }
   ],
   "source": [
    "# handy command to check the memory usage at every point\n",
    "import resource\n",
    "print(\"{} Kb\".format(resource.getrusage(resource.RUSAGE_SELF).ru_maxrss))"
   ]
  },
  {
   "cell_type": "code",
   "execution_count": 5,
   "metadata": {
    "collapsed": false
   },
   "outputs": [
    {
     "name": "stdout",
     "output_type": "stream",
     "text": [
      "89313280 Kb\n",
      "89423872 Kb\n"
     ]
    }
   ],
   "source": [
    "import numpy as np\n",
    "\n",
    "# is giving GraphDef error when using a larger sized matrices\n",
    "x = tf.constant(np.eye(10))\n",
    "y = tf.constant(np.random.randn(10,3))\n",
    "\n",
    "print(\"{} Kb\".format(resource.getrusage(resource.RUSAGE_SELF).ru_maxrss))\n",
    "\n",
    "z = tf.matmul(x,y)\n",
    "\n",
    "# with tf.Session() as sess: # can be also used\n",
    "session = tf.InteractiveSession()     \n",
    "z.eval()\n",
    "#     sess.run(z) # can be also used along with tf.Session()\n",
    "print(\"{} Kb\".format(resource.getrusage(resource.RUSAGE_SELF).ru_maxrss))\n",
    "session.close()"
   ]
  },
  {
   "cell_type": "code",
   "execution_count": null,
   "metadata": {
    "collapsed": true
   },
   "outputs": [],
   "source": []
  }
 ],
 "metadata": {
  "anaconda-cloud": {},
  "kernelspec": {
   "display_name": "Python [Root]",
   "language": "python",
   "name": "Python [Root]"
  },
  "language_info": {
   "codemirror_mode": {
    "name": "ipython",
    "version": 3
   },
   "file_extension": ".py",
   "mimetype": "text/x-python",
   "name": "python",
   "nbconvert_exporter": "python",
   "pygments_lexer": "ipython3",
   "version": "3.5.2"
  }
 },
 "nbformat": 4,
 "nbformat_minor": 0
}
