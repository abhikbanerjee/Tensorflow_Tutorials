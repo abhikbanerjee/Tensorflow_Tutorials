{
 "cells": [
  {
   "cell_type": "markdown",
   "metadata": {},
   "source": [
    "# Tensorflow tutorials - inspired by http://learningtensorflow.com/lesson2/"
   ]
  },
  {
   "cell_type": "code",
   "execution_count": 11,
   "metadata": {
    "collapsed": false
   },
   "outputs": [
    {
     "name": "stdout",
     "output_type": "stream",
     "text": [
      "Python version / Anaconda version -  ['Python 3.5.2 :: Anaconda custom (x86_64)']\n",
      "Tensorflow Version - 0.9.0\n"
     ]
    }
   ],
   "source": [
    "# Tensorflow tutorials - check the python and tensorflow version at any point of time\n",
    "abc = !python --version\n",
    "print(\"Python version / Anaconda version - \", abc)\n",
    "import tensorflow as tf\n",
    "print(\"Tensorflow Version -\", tf.__version__)"
   ]
  },
  {
   "cell_type": "markdown",
   "metadata": {},
   "source": [
    "### Writing a plain equivalent assign x = 35, y = x+5 and printing the value of y"
   ]
  },
  {
   "cell_type": "code",
   "execution_count": 16,
   "metadata": {
    "collapsed": false
   },
   "outputs": [
    {
     "name": "stdout",
     "output_type": "stream",
     "text": [
      "<tensorflow.python.ops.variables.Variable object at 0x11ed736a0>\n"
     ]
    }
   ],
   "source": [
    "# this just prints a tensor but does not print the value of y - lazy evaluation\n",
    "x = tf.constant(35, name='x')\n",
    "y = tf.Variable(x+5, name='y')\n",
    "print(y)"
   ]
  },
  {
   "cell_type": "markdown",
   "metadata": {},
   "source": [
    "#### In order to get the value of y to be printed, we need to create a session and run just the variable y for its value .The actual magic starts from initializing the variables, but untill runing y using session variable its only the graph which is created"
   ]
  },
  {
   "cell_type": "code",
   "execution_count": 20,
   "metadata": {
    "collapsed": false
   },
   "outputs": [
    {
     "name": "stdout",
     "output_type": "stream",
     "text": [
      "40\n"
     ]
    }
   ],
   "source": [
    "x = tf.constant(35, name='x')\n",
    "y = tf.Variable(x+5, name='y')\n",
    "\n",
    "model = tf.initialize_all_variables()\n",
    "\n",
    "with tf.Session() as session:\n",
    "    session.run(model)\n",
    "    print(session.run(y))"
   ]
  },
  {
   "cell_type": "code",
   "execution_count": 21,
   "metadata": {
    "collapsed": false
   },
   "outputs": [
    {
     "name": "stdout",
     "output_type": "stream",
     "text": [
      "[40 45 50]\n"
     ]
    }
   ],
   "source": [
    "# the constants can be arrays too\n",
    "x = tf.constant([35,40,45], name='x')\n",
    "y = tf.Variable(x+5, name='y')\n",
    "\n",
    "model = tf.initialize_all_variables()\n",
    "\n",
    "with tf.Session() as session:\n",
    "    session.run(model)\n",
    "    print(session.run(y))"
   ]
  },
  {
   "cell_type": "code",
   "execution_count": 25,
   "metadata": {
    "collapsed": false
   },
   "outputs": [
    {
     "name": "stdout",
     "output_type": "stream",
     "text": [
      "[3799319 2378445   47741 ...,  371841 1160189 2511293]\n"
     ]
    }
   ],
   "source": [
    "# using numbers from a random distribution using numpy\n",
    "import numpy as np\n",
    "data = np.random.randint(1000, size=10000)\n",
    "\n",
    "x = tf.constant(data, name='x')\n",
    "y = tf.Variable((5*x*x) - (3*x) + 15, name='y')\n",
    "\n",
    "model = tf.initialize_all_variables()\n",
    "\n",
    "with tf.Session() as session:\n",
    "    session.run(model)\n",
    "    print(session.run(y))"
   ]
  },
  {
   "cell_type": "code",
   "execution_count": null,
   "metadata": {
    "collapsed": true
   },
   "outputs": [],
   "source": []
  }
 ],
 "metadata": {
  "kernelspec": {
   "display_name": "Python [Root]",
   "language": "python",
   "name": "Python [Root]"
  },
  "language_info": {
   "codemirror_mode": {
    "name": "ipython",
    "version": 3
   },
   "file_extension": ".py",
   "mimetype": "text/x-python",
   "name": "python",
   "nbconvert_exporter": "python",
   "pygments_lexer": "ipython3",
   "version": "3.5.2"
  }
 },
 "nbformat": 4,
 "nbformat_minor": 0
}
