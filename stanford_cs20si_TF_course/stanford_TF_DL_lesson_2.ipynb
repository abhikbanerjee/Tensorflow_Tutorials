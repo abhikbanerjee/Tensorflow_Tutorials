{
 "cells": [
  {
   "cell_type": "markdown",
   "metadata": {},
   "source": [
    "# Stanford Tensorflow Deep Learning Course - Lesson 2"
   ]
  },
  {
   "cell_type": "code",
   "execution_count": 15,
   "metadata": {
    "collapsed": false
   },
   "outputs": [
    {
     "name": "stdout",
     "output_type": "stream",
     "text": [
      "[[ 0.  0.  0.]\n",
      " [ 0.  0.  0.]]\n"
     ]
    }
   ],
   "source": [
    "import tensorflow as tf\n",
    "\n",
    "a = tf.zeros([2,3], dtype=tf.double)\n",
    "\n",
    "with tf.Session() as sess:\n",
    "    print(sess.run(a))"
   ]
  },
  {
   "cell_type": "markdown",
   "metadata": {},
   "source": [
    "### Visualize in tensorboard"
   ]
  },
  {
   "cell_type": "code",
   "execution_count": 17,
   "metadata": {
    "collapsed": false
   },
   "outputs": [
    {
     "name": "stdout",
     "output_type": "stream",
     "text": [
      "13\n"
     ]
    }
   ],
   "source": [
    "a = tf.constant(5, name=\"a\")\n",
    "b = tf.constant(8, name=\"a\")\n",
    "c = tf.add(a,b, name=\"add\")\n",
    "\n",
    "with tf.Session() as sess:\n",
    "    write = tf.summary.FileWriter(\"/Users/tkmacl9/Desktop/tf_summary\", sess.graph)\n",
    "    print(sess.run(c))\n",
    "write.close()"
   ]
  },
  {
   "cell_type": "code",
   "execution_count": 18,
   "metadata": {
    "collapsed": false
   },
   "outputs": [
    {
     "name": "stdout",
     "output_type": "stream",
     "text": [
      "WARNING:tensorflow:Found more than one graph event per run, or there was a metagraph containing a graph_def, as well as one or more graph events.  Overwriting the graph with the newest event.\n",
      "Starting TensorBoard b'41' on port 6006\n"
     ]
    }
   ],
   "source": [
    "# open tensorboard from command line\n",
    "!tensorboard --logdir=\"/Users/tkmacl9/Desktop/tf_summary\" -port 6606"
   ]
  },
  {
   "cell_type": "code",
   "execution_count": 22,
   "metadata": {
    "collapsed": false
   },
   "outputs": [
    {
     "name": "stdout",
     "output_type": "stream",
     "text": [
      "[[1 1 1]\n",
      " [1 1 1]]\n",
      "\n",
      "[[ 0.  0.  0.]\n",
      " [ 0.  0.  0.]\n",
      " [ 0.  0.  0.]]\n",
      "\n",
      "[[0 1 2]\n",
      " [3 4 5]]\n",
      "\n",
      "[[ 0.  0.  0.]\n",
      " [ 0.  0.  0.]]\n"
     ]
    }
   ],
   "source": [
    "# usage of tf.zeros, tf.ones and zeros_like and ones_like\n",
    "a_ones = tf.ones([2,3], dtype=tf.int32)\n",
    "a_zeros = tf.zeros([3,3], dtype=tf.float32)\n",
    "\n",
    "input_vector = tf.constant([[0,1,2],\n",
    "                            [3,4,5]])\n",
    "\n",
    "b_input_vector_like = tf.zeros_like(input_vector, dtype=tf.float32)\n",
    "\n",
    "with tf.Session() as sess:\n",
    "    print(sess.run(a_ones))\n",
    "    print(\"\")\n",
    "    print(sess.run(a_zeros))\n",
    "    print(\"\")\n",
    "    print(sess.run(input_vector))    \n",
    "    print(\"\")\n",
    "    print(sess.run(b_input_vector_like))"
   ]
  },
  {
   "cell_type": "code",
   "execution_count": null,
   "metadata": {
    "collapsed": true
   },
   "outputs": [],
   "source": []
  },
  {
   "cell_type": "code",
   "execution_count": null,
   "metadata": {
    "collapsed": true
   },
   "outputs": [],
   "source": []
  },
  {
   "cell_type": "code",
   "execution_count": null,
   "metadata": {
    "collapsed": true
   },
   "outputs": [],
   "source": []
  },
  {
   "cell_type": "code",
   "execution_count": null,
   "metadata": {
    "collapsed": true
   },
   "outputs": [],
   "source": []
  },
  {
   "cell_type": "code",
   "execution_count": null,
   "metadata": {
    "collapsed": true
   },
   "outputs": [],
   "source": []
  },
  {
   "cell_type": "code",
   "execution_count": null,
   "metadata": {
    "collapsed": true
   },
   "outputs": [],
   "source": []
  },
  {
   "cell_type": "markdown",
   "metadata": {},
   "source": [
    "## Plot the log (10+x) value "
   ]
  },
  {
   "cell_type": "code",
   "execution_count": 16,
   "metadata": {
    "collapsed": false
   },
   "outputs": [
    {
     "name": "stdout",
     "output_type": "stream",
     "text": [
      "[-10  -9  -8  -7  -6  -5  -4  -3  -2  -1   0   1   2   3   4   5   6   7\n",
      "   8   9]\n",
      "[       -inf  0.          0.69314718  1.09861229  1.38629436  1.60943791\n",
      "  1.79175947  1.94591015  2.07944154  2.19722458  2.30258509  2.39789527\n",
      "  2.48490665  2.56494936  2.63905733  2.7080502   2.77258872  2.83321334\n",
      "  2.89037176  2.94443898]\n",
      "[        nan         nan         nan         nan         nan         nan\n",
      "         nan         nan         nan         nan        -inf  0.\n",
      "  0.69314718  1.09861229  1.38629436  1.60943791  1.79175947  1.94591015\n",
      "  2.07944154  2.19722458]\n"
     ]
    },
    {
     "name": "stderr",
     "output_type": "stream",
     "text": [
      "/Users/tkmacl9/anaconda_python2/lib/python2.7/site-packages/ipykernel/__main__.py:6: RuntimeWarning: divide by zero encountered in log\n",
      "/Users/tkmacl9/anaconda_python2/lib/python2.7/site-packages/ipykernel/__main__.py:7: RuntimeWarning: divide by zero encountered in log\n",
      "/Users/tkmacl9/anaconda_python2/lib/python2.7/site-packages/ipykernel/__main__.py:7: RuntimeWarning: invalid value encountered in log\n"
     ]
    },
    {
     "data": {
      "text/plain": [
       "<matplotlib.text.Text at 0x10ccea950>"
      ]
     },
     "execution_count": 16,
     "metadata": {},
     "output_type": "execute_result"
    },
    {
     "data": {
      "image/png": "[encoded data removed]",
      "text/plain": [
       "<matplotlib.figure.Figure at 0x10bec9210>"
      ]
     },
     "metadata": {},
     "output_type": "display_data"
    }
   ],
   "source": [
    "import matplotlib.pyplot as plt\n",
    "import numpy as np\n",
    "%matplotlib inline\n",
    "\n",
    "x = np.arange(-10,10,1)\n",
    "y1 = np.log(10+x)\n",
    "y2 = np.log(x)\n",
    "\n",
    "print x\n",
    "print y1\n",
    "print y2\n",
    "plt.plot(x,y1)\n",
    "plt.xlabel(\"X\")\n",
    "plt.ylabel(\"log(x)\")\n",
    "plt.title(\"Log(X) graph\")"
   ]
  },
  {
   "cell_type": "code",
   "execution_count": null,
   "metadata": {
    "collapsed": true
   },
   "outputs": [],
   "source": []
  }
 ],
 "metadata": {
  "anaconda-cloud": {},
  "kernelspec": {
   "display_name": "Python [Root]",
   "language": "python",
   "name": "Python [Root]"
  },
  "language_info": {
   "codemirror_mode": {
    "name": "ipython",
    "version": 3
   },
   "file_extension": ".py",
   "mimetype": "text/x-python",
   "name": "python",
   "nbconvert_exporter": "python",
   "pygments_lexer": "ipython3",
   "version": "3.5.2"
  }
 },
 "nbformat": 4,
 "nbformat_minor": 0
}
